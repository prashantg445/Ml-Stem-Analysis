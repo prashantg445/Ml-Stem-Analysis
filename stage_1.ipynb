{
 "cells": [
  {
   "cell_type": "markdown",
   "metadata": {},
   "source": [
    "## Stage 1:"
   ]
  },
  {
   "cell_type": "markdown",
   "metadata": {},
   "source": [
    "1) Calculate % growth of funding between year 2008 & 2009.\n",
    "\n",
    "2) If funding is positive, tag it as 1, if funding is negative tag it as 0. This is the target variable."
   ]
  },
  {
   "cell_type": "code",
   "execution_count": 7,
   "metadata": {
    "collapsed": true
   },
   "outputs": [],
   "source": [
    "from matplotlib import pyplot as plt\n",
    "%matplotlib inline\n",
    "import numpy as np\n",
    "import seaborn as sns\n",
    "import pandas as pd"
   ]
  },
  {
   "cell_type": "code",
   "execution_count": 31,
   "metadata": {
    "collapsed": true
   },
   "outputs": [],
   "source": [
    "data = pd.read_excel('2010 Federal STEM Education Inventory Data Set.xls',header=1)"
   ]
  },
  {
   "cell_type": "markdown",
   "metadata": {},
   "source": [
    "## Analysing variable names on data.world,I renamed the columns as:\n",
    "### if columns are like col, Unnamed.. , Unnamed.. , then  they are renamed as col, col 1, col 2"
   ]
  },
  {
   "cell_type": "code",
   "execution_count": 38,
   "metadata": {
    "collapsed": true
   },
   "outputs": [],
   "source": [
    "for i in data.columns:\n",
    "    if i[:7]==\"Unnamed\":\n",
    "        data.rename(columns={i:j+\" \"+str(k)},inplace=True)\n",
    "        k=k+1\n",
    "    else:\n",
    "        j=i\n",
    "        k=1      "
   ]
  },
  {
   "cell_type": "code",
   "execution_count": 49,
   "metadata": {
    "collapsed": true
   },
   "outputs": [],
   "source": [
    "data['Growth'] = ((data['C2) Funding FY2009'] - data['C1) Funding FY2008']) / data['C1) Funding FY2008']) * 100\n",
    "data['target'] = (data['Growth'] >= 0).astype(int)"
   ]
  },
  {
   "cell_type": "code",
   "execution_count": 51,
   "metadata": {},
   "outputs": [
    {
     "data": {
      "text/html": [
       "<div>\n",
       "<style>\n",
       "    .dataframe thead tr:only-child th {\n",
       "        text-align: right;\n",
       "    }\n",
       "\n",
       "    .dataframe thead th {\n",
       "        text-align: left;\n",
       "    }\n",
       "\n",
       "    .dataframe tbody tr th {\n",
       "        vertical-align: top;\n",
       "    }\n",
       "</style>\n",
       "<table border=\"1\" class=\"dataframe\">\n",
       "  <thead>\n",
       "    <tr style=\"text-align: right;\">\n",
       "      <th></th>\n",
       "      <th>Index Number</th>\n",
       "      <th>Investment Name</th>\n",
       "      <th>Agency</th>\n",
       "      <th>Subagency</th>\n",
       "      <th>A) Brief Description</th>\n",
       "      <th>B) Year Established</th>\n",
       "      <th>C1) Funding FY2008</th>\n",
       "      <th>C2) Funding FY2009</th>\n",
       "      <th>C3) Funding FY2010</th>\n",
       "      <th>D) Mission-specific or General STEM?</th>\n",
       "      <th>...</th>\n",
       "      <th>Y3) Process or Implementation Evaluation Type</th>\n",
       "      <th>Y3) Process or Implementation Evaluation Type 1</th>\n",
       "      <th>Y3) Process or Implementation Evaluation Type 2</th>\n",
       "      <th>Y4) Portfolio Evaluation/Review Type</th>\n",
       "      <th>Y4) Portfolio Evaluation/Review Type 1</th>\n",
       "      <th>Y4) Portfolio Evaluation/Review Type 2</th>\n",
       "      <th>Y5) Expert Review Type</th>\n",
       "      <th>Y5) Expert Review Type 1</th>\n",
       "      <th>Growth</th>\n",
       "      <th>target</th>\n",
       "    </tr>\n",
       "  </thead>\n",
       "  <tbody>\n",
       "    <tr>\n",
       "      <th>0</th>\n",
       "      <td>PRG_0001</td>\n",
       "      <td>Centers for Ocean Sciences Education Excellence ~</td>\n",
       "      <td>National Science Foundation</td>\n",
       "      <td>Directorate for Geosciences (GEO)</td>\n",
       "      <td>The Division of Ocean Sciences seeks to establ...</td>\n",
       "      <td>2002.0</td>\n",
       "      <td>5.24</td>\n",
       "      <td>7.19</td>\n",
       "      <td>5.70</td>\n",
       "      <td>General STEM</td>\n",
       "      <td>...</td>\n",
       "      <td>NaN</td>\n",
       "      <td>NaN</td>\n",
       "      <td>NO</td>\n",
       "      <td>INDEPENDENT</td>\n",
       "      <td>NaN</td>\n",
       "      <td>NaN</td>\n",
       "      <td>INDEPENDENT</td>\n",
       "      <td>NaN</td>\n",
       "      <td>37.213740</td>\n",
       "      <td>1</td>\n",
       "    </tr>\n",
       "    <tr>\n",
       "      <th>1</th>\n",
       "      <td>PRG_0002</td>\n",
       "      <td>Broadening Participation in Computing (BPC)</td>\n",
       "      <td>National Science Foundation</td>\n",
       "      <td>Directorate for Computer &amp; Information Science...</td>\n",
       "      <td>The BPC Program was not primarily aimed at edu...</td>\n",
       "      <td>2006.0</td>\n",
       "      <td>14.00</td>\n",
       "      <td>14.00</td>\n",
       "      <td>14.00</td>\n",
       "      <td>General STEM</td>\n",
       "      <td>...</td>\n",
       "      <td>NaN</td>\n",
       "      <td>NaN</td>\n",
       "      <td>NO</td>\n",
       "      <td>NaN</td>\n",
       "      <td>NaN</td>\n",
       "      <td>NO</td>\n",
       "      <td>NaN</td>\n",
       "      <td>NaN</td>\n",
       "      <td>0.000000</td>\n",
       "      <td>1</td>\n",
       "    </tr>\n",
       "    <tr>\n",
       "      <th>2</th>\n",
       "      <td>PRG_0003</td>\n",
       "      <td>CISE Pathways to Revitalized Undergraduate Com...</td>\n",
       "      <td>National Science Foundation</td>\n",
       "      <td>Directorate for Computer &amp; Information Science...</td>\n",
       "      <td>Through the CISE Pathways to Revitalized Under...</td>\n",
       "      <td>2007.0</td>\n",
       "      <td>5.00</td>\n",
       "      <td>5.00</td>\n",
       "      <td>4.37</td>\n",
       "      <td>General STEM</td>\n",
       "      <td>...</td>\n",
       "      <td>NaN</td>\n",
       "      <td>NaN</td>\n",
       "      <td>NO</td>\n",
       "      <td>NaN</td>\n",
       "      <td>NaN</td>\n",
       "      <td>NO</td>\n",
       "      <td>NaN</td>\n",
       "      <td>NaN</td>\n",
       "      <td>0.000000</td>\n",
       "      <td>1</td>\n",
       "    </tr>\n",
       "    <tr>\n",
       "      <th>3</th>\n",
       "      <td>PRG_0004</td>\n",
       "      <td>Opportunities for Enhancing Diversity in the G...</td>\n",
       "      <td>National Science Foundation</td>\n",
       "      <td>Directorate for Geosciences (GEO)</td>\n",
       "      <td>The Opportunities for Enhancing Diversity in t...</td>\n",
       "      <td>2002.0</td>\n",
       "      <td>4.57</td>\n",
       "      <td>11.79</td>\n",
       "      <td>4.18</td>\n",
       "      <td>General STEM</td>\n",
       "      <td>...</td>\n",
       "      <td>INDEPENDENT</td>\n",
       "      <td>NaN</td>\n",
       "      <td>NaN</td>\n",
       "      <td>INDEPENDENT</td>\n",
       "      <td>NaN</td>\n",
       "      <td>NaN</td>\n",
       "      <td>INDEPENDENT</td>\n",
       "      <td>NaN</td>\n",
       "      <td>157.986871</td>\n",
       "      <td>1</td>\n",
       "    </tr>\n",
       "    <tr>\n",
       "      <th>4</th>\n",
       "      <td>PRG_0005</td>\n",
       "      <td>Geoscience Education</td>\n",
       "      <td>National Science Foundation</td>\n",
       "      <td>Directorate for Geosciences (GEO)</td>\n",
       "      <td>The Geoscience Education (GeoEd) program is fo...</td>\n",
       "      <td>1999.0</td>\n",
       "      <td>1.63</td>\n",
       "      <td>2.74</td>\n",
       "      <td>2.02</td>\n",
       "      <td>General STEM</td>\n",
       "      <td>...</td>\n",
       "      <td>NaN</td>\n",
       "      <td>NaN</td>\n",
       "      <td>NO</td>\n",
       "      <td>NaN</td>\n",
       "      <td>NaN</td>\n",
       "      <td>NO</td>\n",
       "      <td>NaN</td>\n",
       "      <td>NaN</td>\n",
       "      <td>68.098160</td>\n",
       "      <td>1</td>\n",
       "    </tr>\n",
       "  </tbody>\n",
       "</table>\n",
       "<p>5 rows × 258 columns</p>\n",
       "</div>"
      ],
      "text/plain": [
       "  Index Number                                    Investment Name  \\\n",
       "0     PRG_0001  Centers for Ocean Sciences Education Excellence ~   \n",
       "1     PRG_0002        Broadening Participation in Computing (BPC)   \n",
       "2     PRG_0003  CISE Pathways to Revitalized Undergraduate Com...   \n",
       "3     PRG_0004  Opportunities for Enhancing Diversity in the G...   \n",
       "4     PRG_0005                               Geoscience Education   \n",
       "\n",
       "                        Agency  \\\n",
       "0  National Science Foundation   \n",
       "1  National Science Foundation   \n",
       "2  National Science Foundation   \n",
       "3  National Science Foundation   \n",
       "4  National Science Foundation   \n",
       "\n",
       "                                           Subagency  \\\n",
       "0                  Directorate for Geosciences (GEO)   \n",
       "1  Directorate for Computer & Information Science...   \n",
       "2  Directorate for Computer & Information Science...   \n",
       "3                  Directorate for Geosciences (GEO)   \n",
       "4                  Directorate for Geosciences (GEO)   \n",
       "\n",
       "                                A) Brief Description  B) Year Established  \\\n",
       "0  The Division of Ocean Sciences seeks to establ...               2002.0   \n",
       "1  The BPC Program was not primarily aimed at edu...               2006.0   \n",
       "2  Through the CISE Pathways to Revitalized Under...               2007.0   \n",
       "3  The Opportunities for Enhancing Diversity in t...               2002.0   \n",
       "4  The Geoscience Education (GeoEd) program is fo...               1999.0   \n",
       "\n",
       "   C1) Funding FY2008  C2) Funding FY2009  C3) Funding FY2010  \\\n",
       "0                5.24                7.19                5.70   \n",
       "1               14.00               14.00               14.00   \n",
       "2                5.00                5.00                4.37   \n",
       "3                4.57               11.79                4.18   \n",
       "4                1.63                2.74                2.02   \n",
       "\n",
       "  D) Mission-specific or General STEM?  ...    \\\n",
       "0                         General STEM  ...     \n",
       "1                         General STEM  ...     \n",
       "2                         General STEM  ...     \n",
       "3                         General STEM  ...     \n",
       "4                         General STEM  ...     \n",
       "\n",
       "  Y3) Process or Implementation Evaluation Type  \\\n",
       "0                                           NaN   \n",
       "1                                           NaN   \n",
       "2                                           NaN   \n",
       "3                                   INDEPENDENT   \n",
       "4                                           NaN   \n",
       "\n",
       "  Y3) Process or Implementation Evaluation Type 1  \\\n",
       "0                                             NaN   \n",
       "1                                             NaN   \n",
       "2                                             NaN   \n",
       "3                                             NaN   \n",
       "4                                             NaN   \n",
       "\n",
       "  Y3) Process or Implementation Evaluation Type 2  \\\n",
       "0                                              NO   \n",
       "1                                              NO   \n",
       "2                                              NO   \n",
       "3                                             NaN   \n",
       "4                                              NO   \n",
       "\n",
       "  Y4) Portfolio Evaluation/Review Type Y4) Portfolio Evaluation/Review Type 1  \\\n",
       "0                          INDEPENDENT                                    NaN   \n",
       "1                                  NaN                                    NaN   \n",
       "2                                  NaN                                    NaN   \n",
       "3                          INDEPENDENT                                    NaN   \n",
       "4                                  NaN                                    NaN   \n",
       "\n",
       "  Y4) Portfolio Evaluation/Review Type 2 Y5) Expert Review Type  \\\n",
       "0                                    NaN            INDEPENDENT   \n",
       "1                                     NO                    NaN   \n",
       "2                                     NO                    NaN   \n",
       "3                                    NaN            INDEPENDENT   \n",
       "4                                     NO                    NaN   \n",
       "\n",
       "  Y5) Expert Review Type 1      Growth target  \n",
       "0                      NaN   37.213740      1  \n",
       "1                      NaN    0.000000      1  \n",
       "2                      NaN    0.000000      1  \n",
       "3                      NaN  157.986871      1  \n",
       "4                      NaN   68.098160      1  \n",
       "\n",
       "[5 rows x 258 columns]"
      ]
     },
     "execution_count": 51,
     "metadata": {},
     "output_type": "execute_result"
    }
   ],
   "source": [
    "data.head()"
   ]
  },
  {
   "cell_type": "code",
   "execution_count": 52,
   "metadata": {
    "collapsed": true
   },
   "outputs": [],
   "source": [
    "data.to_csv('data.csv')"
   ]
  },
  {
   "cell_type": "markdown",
   "metadata": {},
   "source": [
    "##  Distribution of % growth for each ID"
   ]
  },
  {
   "cell_type": "code",
   "execution_count": 15,
   "metadata": {},
   "outputs": [
    {
     "data": {
      "text/plain": [
       "<Container object of 253 artists>"
      ]
     },
     "execution_count": 15,
     "metadata": {},
     "output_type": "execute_result"
    },
    {
     "data": {
      "image/png": "[encoded data removed]",
      "text/plain": [
       "<matplotlib.figure.Figure at 0xa339d80c>"
      ]
     },
     "metadata": {},
     "output_type": "display_data"
    }
   ],
   "source": [
    "plt.figure(figsize=(10,20))\n",
    "plt.barh(data.index, data['Growth'])"
   ]
  }
 ],
 "metadata": {
  "kernelspec": {
   "display_name": "Python 3",
   "language": "python",
   "name": "python3"
  },
  "language_info": {
   "codemirror_mode": {
    "name": "ipython",
    "version": 3
   },
   "file_extension": ".py",
   "mimetype": "text/x-python",
   "name": "python",
   "nbconvert_exporter": "python",
   "pygments_lexer": "ipython3",
   "version": "3.4.3"
  }
 },
 "nbformat": 4,
 "nbformat_minor": 2
}
